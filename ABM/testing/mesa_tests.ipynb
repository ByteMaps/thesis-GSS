{
 "cells": [
  {
   "cell_type": "markdown",
   "id": "2b44bb53",
   "metadata": {},
   "source": [
    "Importing dataframes, visualisation and mesa"
   ]
  },
  {
   "cell_type": "code",
   "execution_count": 2,
   "id": "3217e490",
   "metadata": {},
   "outputs": [],
   "source": [
    "import numpy as np\n",
    "import pandas as pd\n",
    "import seaborn as sns\n",
    "import mesa"
   ]
  },
  {
   "cell_type": "markdown",
   "id": "4e4160e4",
   "metadata": {},
   "source": [
    "## The Agent and Model"
   ]
  },
  {
   "cell_type": "code",
   "execution_count": null,
   "id": "e31c3f6a",
   "metadata": {},
   "outputs": [],
   "source": [
    "class MoneyAgent(mesa.Agent):\n",
    "\t\"\"\"An agent with fixed initial wealth\"\"\"\n",
    "\n",
    "\tdef __init__(self, model):\n",
    "\t\tsuper().__init__(model)\n",
    "\n",
    "\t\tself.wealth = 1\n",
    "\n",
    "\tdef exchange(self):\n",
    "        # Verify agent has some wealth\n",
    "\t\tif self.wealth > 0:\n",
    "\t\t\tother_agent = self.random.choice(self.model.agents)\n",
    "\t\t\tif other_agent is not None:\n",
    "\t\t\t\tother_agent.wealth += 1\n",
    "\t\t\t\tself.wealth -= 1\n",
    "\n",
    "class MoneyModel(mesa.Model):\n",
    "\t\"\"\"A model with some number of agents.\"\"\"\n",
    "\n",
    "\tdef __init__(self, n, seed=None):\n",
    "\t\tsuper().__init__(seed=seed)\n",
    "\t\tself.num_agents = n\n",
    "\n",
    "\t\t#create agents\n",
    "\t\tMoneyAgent.create_agents(model=self, n=n)\n",
    "\n",
    "\tdef step(self):\n",
    "\t\tself.agents.shuffle_do(\"exchange\")\t\t\t\t\t\t#randomly shuffle the agents and call their say_hi method"
   ]
  },
  {
   "cell_type": "code",
   "execution_count": 66,
   "id": "a693e938",
   "metadata": {},
   "outputs": [
    {
     "data": {
      "text/plain": [
       "[Text(0.5, 0, 'Wealth'), Text(0, 0.5, 'Number of Agents')]"
      ]
     },
     "execution_count": 66,
     "metadata": {},
     "output_type": "execute_result"
    },
    {
     "data": {
      "image/png": "[encoded data removed]",
      "text/plain": [
       "<Figure size 640x480 with 1 Axes>"
      ]
     },
     "metadata": {},
     "output_type": "display_data"
    }
   ],
   "source": [
    "starter = MoneyModel(n=100)\n",
    "for _ in range(300):\t#run the model for 5 steps\n",
    "\tstarter.step()\n",
    "# Collect data\n",
    "agent_wealth = [agent.wealth for agent in starter.agents]\n",
    "g = sns.histplot(agent_wealth, discrete=True, kde=False)\n",
    "g.set(xlabel=\"Wealth\", ylabel=\"Number of Agents\")"
   ]
  }
 ],
 "metadata": {
  "kernelspec": {
   "display_name": "ABM",
   "language": "python",
   "name": "python3"
  },
  "language_info": {
   "codemirror_mode": {
    "name": "ipython",
    "version": 3
   },
   "file_extension": ".py",
   "mimetype": "text/x-python",
   "name": "python",
   "nbconvert_exporter": "python",
   "pygments_lexer": "ipython3",
   "version": "3.12.4"
  }
 },
 "nbformat": 4,
 "nbformat_minor": 5
}
